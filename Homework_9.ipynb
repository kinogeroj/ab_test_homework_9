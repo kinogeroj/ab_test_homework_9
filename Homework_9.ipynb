{
 "cells": [
  {
   "cell_type": "markdown",
   "id": "3d4b67ee",
   "metadata": {},
   "source": [
    "## Задача 1.\n",
    "Проанализируйте результаты эксперимента и напишите свои рекомендации менеджеру."
   ]
  },
  {
   "cell_type": "code",
   "execution_count": 86,
   "id": "65d2b495",
   "metadata": {},
   "outputs": [],
   "source": [
    "from scipy.stats import mannwhitneyu, shapiro, norm, t, kstest, shapiro\n",
    "\n",
    "import numpy as np\n",
    "\n",
    "import warnings\n",
    "\n",
    "from statsmodels.stats import proportion\n",
    "\n",
    "import matplotlib.pyplot as plt\n",
    "\n",
    "import seaborn as sns\n",
    "\n",
    "import pandas as pd\n",
    "\n",
    "warnings.filterwarnings('ignore')\n",
    "warnings.warn('DelftStack')\n",
    "warnings.warn('Do not show this message')"
   ]
  },
  {
   "cell_type": "markdown",
   "id": "0dabcc72",
   "metadata": {},
   "source": [
    "### Импорт данных"
   ]
  },
  {
   "cell_type": "code",
   "execution_count": 68,
   "id": "8a92ffd0",
   "metadata": {},
   "outputs": [
    {
     "data": {
      "text/html": [
       "<div>\n",
       "<style scoped>\n",
       "    .dataframe tbody tr th:only-of-type {\n",
       "        vertical-align: middle;\n",
       "    }\n",
       "\n",
       "    .dataframe tbody tr th {\n",
       "        vertical-align: top;\n",
       "    }\n",
       "\n",
       "    .dataframe thead th {\n",
       "        text-align: right;\n",
       "    }\n",
       "</style>\n",
       "<table border=\"1\" class=\"dataframe\">\n",
       "  <thead>\n",
       "    <tr style=\"text-align: right;\">\n",
       "      <th></th>\n",
       "      <th>userid</th>\n",
       "      <th>version</th>\n",
       "      <th>sum_gamerounds</th>\n",
       "      <th>retention_1</th>\n",
       "      <th>retention_7</th>\n",
       "    </tr>\n",
       "  </thead>\n",
       "  <tbody>\n",
       "    <tr>\n",
       "      <th>0</th>\n",
       "      <td>116</td>\n",
       "      <td>gate_30</td>\n",
       "      <td>3</td>\n",
       "      <td>0</td>\n",
       "      <td>0</td>\n",
       "    </tr>\n",
       "    <tr>\n",
       "      <th>1</th>\n",
       "      <td>337</td>\n",
       "      <td>gate_30</td>\n",
       "      <td>38</td>\n",
       "      <td>1</td>\n",
       "      <td>0</td>\n",
       "    </tr>\n",
       "    <tr>\n",
       "      <th>2</th>\n",
       "      <td>377</td>\n",
       "      <td>gate_40</td>\n",
       "      <td>165</td>\n",
       "      <td>1</td>\n",
       "      <td>0</td>\n",
       "    </tr>\n",
       "    <tr>\n",
       "      <th>3</th>\n",
       "      <td>483</td>\n",
       "      <td>gate_40</td>\n",
       "      <td>1</td>\n",
       "      <td>0</td>\n",
       "      <td>0</td>\n",
       "    </tr>\n",
       "    <tr>\n",
       "      <th>4</th>\n",
       "      <td>488</td>\n",
       "      <td>gate_40</td>\n",
       "      <td>179</td>\n",
       "      <td>1</td>\n",
       "      <td>1</td>\n",
       "    </tr>\n",
       "    <tr>\n",
       "      <th>5</th>\n",
       "      <td>540</td>\n",
       "      <td>gate_40</td>\n",
       "      <td>187</td>\n",
       "      <td>1</td>\n",
       "      <td>1</td>\n",
       "    </tr>\n",
       "    <tr>\n",
       "      <th>6</th>\n",
       "      <td>1066</td>\n",
       "      <td>gate_30</td>\n",
       "      <td>0</td>\n",
       "      <td>0</td>\n",
       "      <td>0</td>\n",
       "    </tr>\n",
       "    <tr>\n",
       "      <th>7</th>\n",
       "      <td>1444</td>\n",
       "      <td>gate_40</td>\n",
       "      <td>2</td>\n",
       "      <td>0</td>\n",
       "      <td>0</td>\n",
       "    </tr>\n",
       "    <tr>\n",
       "      <th>8</th>\n",
       "      <td>1574</td>\n",
       "      <td>gate_40</td>\n",
       "      <td>108</td>\n",
       "      <td>1</td>\n",
       "      <td>1</td>\n",
       "    </tr>\n",
       "    <tr>\n",
       "      <th>9</th>\n",
       "      <td>1587</td>\n",
       "      <td>gate_40</td>\n",
       "      <td>153</td>\n",
       "      <td>1</td>\n",
       "      <td>0</td>\n",
       "    </tr>\n",
       "  </tbody>\n",
       "</table>\n",
       "</div>"
      ],
      "text/plain": [
       "   userid  version  sum_gamerounds  retention_1  retention_7\n",
       "0     116  gate_30               3            0            0\n",
       "1     337  gate_30              38            1            0\n",
       "2     377  gate_40             165            1            0\n",
       "3     483  gate_40               1            0            0\n",
       "4     488  gate_40             179            1            1\n",
       "5     540  gate_40             187            1            1\n",
       "6    1066  gate_30               0            0            0\n",
       "7    1444  gate_40               2            0            0\n",
       "8    1574  gate_40             108            1            1\n",
       "9    1587  gate_40             153            1            0"
      ]
     },
     "execution_count": 68,
     "metadata": {},
     "output_type": "execute_result"
    }
   ],
   "source": [
    "data = pd.read_excel('AB_Test_Results.xlsx')\n",
    "\n",
    "data.head(10)"
   ]
  },
  {
   "cell_type": "code",
   "execution_count": 69,
   "id": "e6f1e4c3",
   "metadata": {},
   "outputs": [
    {
     "name": "stdout",
     "output_type": "stream",
     "text": [
      "<class 'pandas.core.frame.DataFrame'>\n",
      "RangeIndex: 90189 entries, 0 to 90188\n",
      "Data columns (total 5 columns):\n",
      " #   Column          Non-Null Count  Dtype \n",
      "---  ------          --------------  ----- \n",
      " 0   userid          90189 non-null  int64 \n",
      " 1   version         90189 non-null  object\n",
      " 2   sum_gamerounds  90189 non-null  int64 \n",
      " 3   retention_1     90189 non-null  int64 \n",
      " 4   retention_7     90189 non-null  int64 \n",
      "dtypes: int64(4), object(1)\n",
      "memory usage: 3.4+ MB\n"
     ]
    }
   ],
   "source": [
    "data.info()"
   ]
  },
  {
   "cell_type": "code",
   "execution_count": 70,
   "id": "dbbee166",
   "metadata": {},
   "outputs": [
    {
     "data": {
      "text/plain": [
       "(90189, 5)"
      ]
     },
     "execution_count": 70,
     "metadata": {},
     "output_type": "execute_result"
    }
   ],
   "source": [
    "data.shape"
   ]
  },
  {
   "cell_type": "markdown",
   "id": "1518f4ca",
   "metadata": {},
   "source": [
    "### Проверка данных"
   ]
  },
  {
   "cell_type": "code",
   "execution_count": 71,
   "id": "1813c7ea",
   "metadata": {},
   "outputs": [
    {
     "data": {
      "text/plain": [
       "userid            0\n",
       "version           0\n",
       "sum_gamerounds    0\n",
       "retention_1       0\n",
       "retention_7       0\n",
       "dtype: int64"
      ]
     },
     "execution_count": 71,
     "metadata": {},
     "output_type": "execute_result"
    }
   ],
   "source": [
    "data.isna().sum()"
   ]
  },
  {
   "cell_type": "code",
   "execution_count": 72,
   "id": "69a7ef17",
   "metadata": {},
   "outputs": [
    {
     "data": {
      "text/html": [
       "<div>\n",
       "<style scoped>\n",
       "    .dataframe tbody tr th:only-of-type {\n",
       "        vertical-align: middle;\n",
       "    }\n",
       "\n",
       "    .dataframe tbody tr th {\n",
       "        vertical-align: top;\n",
       "    }\n",
       "\n",
       "    .dataframe thead th {\n",
       "        text-align: right;\n",
       "    }\n",
       "</style>\n",
       "<table border=\"1\" class=\"dataframe\">\n",
       "  <thead>\n",
       "    <tr style=\"text-align: right;\">\n",
       "      <th></th>\n",
       "      <th>userid</th>\n",
       "      <th>sum_gamerounds</th>\n",
       "      <th>retention_1</th>\n",
       "      <th>retention_7</th>\n",
       "    </tr>\n",
       "  </thead>\n",
       "  <tbody>\n",
       "    <tr>\n",
       "      <th>count</th>\n",
       "      <td>4.470000e+04</td>\n",
       "      <td>44700.000000</td>\n",
       "      <td>44700.000000</td>\n",
       "      <td>44700.000000</td>\n",
       "    </tr>\n",
       "    <tr>\n",
       "      <th>mean</th>\n",
       "      <td>4.987564e+06</td>\n",
       "      <td>52.456264</td>\n",
       "      <td>0.448188</td>\n",
       "      <td>0.190201</td>\n",
       "    </tr>\n",
       "    <tr>\n",
       "      <th>std</th>\n",
       "      <td>2.881026e+06</td>\n",
       "      <td>256.716423</td>\n",
       "      <td>0.497314</td>\n",
       "      <td>0.392464</td>\n",
       "    </tr>\n",
       "    <tr>\n",
       "      <th>min</th>\n",
       "      <td>1.160000e+02</td>\n",
       "      <td>0.000000</td>\n",
       "      <td>0.000000</td>\n",
       "      <td>0.000000</td>\n",
       "    </tr>\n",
       "    <tr>\n",
       "      <th>25%</th>\n",
       "      <td>2.505469e+06</td>\n",
       "      <td>5.000000</td>\n",
       "      <td>0.000000</td>\n",
       "      <td>0.000000</td>\n",
       "    </tr>\n",
       "    <tr>\n",
       "      <th>50%</th>\n",
       "      <td>4.983631e+06</td>\n",
       "      <td>17.000000</td>\n",
       "      <td>0.000000</td>\n",
       "      <td>0.000000</td>\n",
       "    </tr>\n",
       "    <tr>\n",
       "      <th>75%</th>\n",
       "      <td>7.481497e+06</td>\n",
       "      <td>50.000000</td>\n",
       "      <td>1.000000</td>\n",
       "      <td>0.000000</td>\n",
       "    </tr>\n",
       "    <tr>\n",
       "      <th>max</th>\n",
       "      <td>9.999710e+06</td>\n",
       "      <td>49854.000000</td>\n",
       "      <td>1.000000</td>\n",
       "      <td>1.000000</td>\n",
       "    </tr>\n",
       "  </tbody>\n",
       "</table>\n",
       "</div>"
      ],
      "text/plain": [
       "             userid  sum_gamerounds   retention_1   retention_7\n",
       "count  4.470000e+04    44700.000000  44700.000000  44700.000000\n",
       "mean   4.987564e+06       52.456264      0.448188      0.190201\n",
       "std    2.881026e+06      256.716423      0.497314      0.392464\n",
       "min    1.160000e+02        0.000000      0.000000      0.000000\n",
       "25%    2.505469e+06        5.000000      0.000000      0.000000\n",
       "50%    4.983631e+06       17.000000      0.000000      0.000000\n",
       "75%    7.481497e+06       50.000000      1.000000      0.000000\n",
       "max    9.999710e+06    49854.000000      1.000000      1.000000"
      ]
     },
     "execution_count": 72,
     "metadata": {},
     "output_type": "execute_result"
    }
   ],
   "source": [
    "data[data['version'] == 'gate_30'].describe()"
   ]
  },
  {
   "cell_type": "code",
   "execution_count": 73,
   "id": "5362b158",
   "metadata": {},
   "outputs": [
    {
     "data": {
      "text/html": [
       "<div>\n",
       "<style scoped>\n",
       "    .dataframe tbody tr th:only-of-type {\n",
       "        vertical-align: middle;\n",
       "    }\n",
       "\n",
       "    .dataframe tbody tr th {\n",
       "        vertical-align: top;\n",
       "    }\n",
       "\n",
       "    .dataframe thead th {\n",
       "        text-align: right;\n",
       "    }\n",
       "</style>\n",
       "<table border=\"1\" class=\"dataframe\">\n",
       "  <thead>\n",
       "    <tr style=\"text-align: right;\">\n",
       "      <th></th>\n",
       "      <th>userid</th>\n",
       "      <th>sum_gamerounds</th>\n",
       "      <th>retention_1</th>\n",
       "      <th>retention_7</th>\n",
       "    </tr>\n",
       "  </thead>\n",
       "  <tbody>\n",
       "    <tr>\n",
       "      <th>count</th>\n",
       "      <td>4.548900e+04</td>\n",
       "      <td>45489.000000</td>\n",
       "      <td>45489.000000</td>\n",
       "      <td>45489.000000</td>\n",
       "    </tr>\n",
       "    <tr>\n",
       "      <th>mean</th>\n",
       "      <td>5.009073e+06</td>\n",
       "      <td>51.298776</td>\n",
       "      <td>0.442283</td>\n",
       "      <td>0.182000</td>\n",
       "    </tr>\n",
       "    <tr>\n",
       "      <th>std</th>\n",
       "      <td>2.885496e+06</td>\n",
       "      <td>103.294416</td>\n",
       "      <td>0.496663</td>\n",
       "      <td>0.385849</td>\n",
       "    </tr>\n",
       "    <tr>\n",
       "      <th>min</th>\n",
       "      <td>3.770000e+02</td>\n",
       "      <td>0.000000</td>\n",
       "      <td>0.000000</td>\n",
       "      <td>0.000000</td>\n",
       "    </tr>\n",
       "    <tr>\n",
       "      <th>25%</th>\n",
       "      <td>2.517171e+06</td>\n",
       "      <td>5.000000</td>\n",
       "      <td>0.000000</td>\n",
       "      <td>0.000000</td>\n",
       "    </tr>\n",
       "    <tr>\n",
       "      <th>50%</th>\n",
       "      <td>5.007329e+06</td>\n",
       "      <td>16.000000</td>\n",
       "      <td>0.000000</td>\n",
       "      <td>0.000000</td>\n",
       "    </tr>\n",
       "    <tr>\n",
       "      <th>75%</th>\n",
       "      <td>7.510762e+06</td>\n",
       "      <td>52.000000</td>\n",
       "      <td>1.000000</td>\n",
       "      <td>0.000000</td>\n",
       "    </tr>\n",
       "    <tr>\n",
       "      <th>max</th>\n",
       "      <td>9.999861e+06</td>\n",
       "      <td>2640.000000</td>\n",
       "      <td>1.000000</td>\n",
       "      <td>1.000000</td>\n",
       "    </tr>\n",
       "  </tbody>\n",
       "</table>\n",
       "</div>"
      ],
      "text/plain": [
       "             userid  sum_gamerounds   retention_1   retention_7\n",
       "count  4.548900e+04    45489.000000  45489.000000  45489.000000\n",
       "mean   5.009073e+06       51.298776      0.442283      0.182000\n",
       "std    2.885496e+06      103.294416      0.496663      0.385849\n",
       "min    3.770000e+02        0.000000      0.000000      0.000000\n",
       "25%    2.517171e+06        5.000000      0.000000      0.000000\n",
       "50%    5.007329e+06       16.000000      0.000000      0.000000\n",
       "75%    7.510762e+06       52.000000      1.000000      0.000000\n",
       "max    9.999861e+06     2640.000000      1.000000      1.000000"
      ]
     },
     "execution_count": 73,
     "metadata": {},
     "output_type": "execute_result"
    }
   ],
   "source": [
    "data[data['version'] == 'gate_40'].describe()"
   ]
  },
  {
   "cell_type": "code",
   "execution_count": 74,
   "id": "8992b455",
   "metadata": {},
   "outputs": [
    {
     "data": {
      "text/plain": [
       "True"
      ]
     },
     "execution_count": 74,
     "metadata": {},
     "output_type": "execute_result"
    }
   ],
   "source": [
    "data['userid'].nunique() == data['userid'].count()"
   ]
  },
  {
   "cell_type": "markdown",
   "id": "df79ed95",
   "metadata": {},
   "source": [
    "Дублирования нет, данные корректны."
   ]
  },
  {
   "cell_type": "markdown",
   "id": "eae4cf6f",
   "metadata": {},
   "source": [
    "### Анализ данных"
   ]
  },
  {
   "cell_type": "markdown",
   "id": "303b9731",
   "metadata": {},
   "source": [
    "Распределение по группам."
   ]
  },
  {
   "cell_type": "code",
   "execution_count": 75,
   "id": "ea782834",
   "metadata": {},
   "outputs": [
    {
     "data": {
      "text/html": [
       "<div>\n",
       "<style scoped>\n",
       "    .dataframe tbody tr th:only-of-type {\n",
       "        vertical-align: middle;\n",
       "    }\n",
       "\n",
       "    .dataframe tbody tr th {\n",
       "        vertical-align: top;\n",
       "    }\n",
       "\n",
       "    .dataframe thead th {\n",
       "        text-align: right;\n",
       "    }\n",
       "</style>\n",
       "<table border=\"1\" class=\"dataframe\">\n",
       "  <thead>\n",
       "    <tr style=\"text-align: right;\">\n",
       "      <th></th>\n",
       "      <th>userid</th>\n",
       "    </tr>\n",
       "    <tr>\n",
       "      <th>version</th>\n",
       "      <th></th>\n",
       "    </tr>\n",
       "  </thead>\n",
       "  <tbody>\n",
       "    <tr>\n",
       "      <th>gate_30</th>\n",
       "      <td>44700</td>\n",
       "    </tr>\n",
       "    <tr>\n",
       "      <th>gate_40</th>\n",
       "      <td>45489</td>\n",
       "    </tr>\n",
       "  </tbody>\n",
       "</table>\n",
       "</div>"
      ],
      "text/plain": [
       "         userid\n",
       "version        \n",
       "gate_30   44700\n",
       "gate_40   45489"
      ]
     },
     "execution_count": 75,
     "metadata": {},
     "output_type": "execute_result"
    }
   ],
   "source": [
    "data.groupby('version')[['userid']].nunique()"
   ]
  },
  {
   "cell_type": "markdown",
   "id": "2046aa14",
   "metadata": {},
   "source": [
    "Распределение по группам вполне корректное, группы практически одинаковы по численности."
   ]
  },
  {
   "cell_type": "code",
   "execution_count": 76,
   "id": "2705e1f2",
   "metadata": {},
   "outputs": [
    {
     "data": {
      "text/plain": [
       "3994"
      ]
     },
     "execution_count": 76,
     "metadata": {},
     "output_type": "execute_result"
    }
   ],
   "source": [
    "data[data[\"sum_gamerounds\"] == 0][\"userid\"].count()"
   ]
  },
  {
   "cell_type": "code",
   "execution_count": 77,
   "id": "95f1d9de",
   "metadata": {},
   "outputs": [
    {
     "data": {
      "text/plain": [
       "1937"
      ]
     },
     "execution_count": 77,
     "metadata": {},
     "output_type": "execute_result"
    }
   ],
   "source": [
    "data[(data[\"sum_gamerounds\"] == 0) & (data[\"version\"] == 'gate_30')][\"userid\"].count()"
   ]
  },
  {
   "cell_type": "code",
   "execution_count": 78,
   "id": "8c15bee2",
   "metadata": {},
   "outputs": [
    {
     "data": {
      "text/plain": [
       "2057"
      ]
     },
     "execution_count": 78,
     "metadata": {},
     "output_type": "execute_result"
    }
   ],
   "source": [
    "data[(data[\"sum_gamerounds\"] == 0) & (data[\"version\"] == 'gate_40')][\"userid\"].count()"
   ]
  },
  {
   "cell_type": "markdown",
   "id": "209549be",
   "metadata": {},
   "source": [
    "3994 игрока не играли в игру после скачивания вообще. Однако их число в каждой из групп почти одинаковое, значит игнорируем не играющих пользователей."
   ]
  },
  {
   "cell_type": "code",
   "execution_count": 79,
   "id": "2db5d285",
   "metadata": {},
   "outputs": [
    {
     "name": "stdout",
     "output_type": "stream",
     "text": [
      "KstestResult(statistic=0.8715607041848303, pvalue=0.0)\n"
     ]
    }
   ],
   "source": [
    "print(kstest(data['sum_gamerounds'], 'norm'))"
   ]
  },
  {
   "cell_type": "markdown",
   "id": "a09e43c6",
   "metadata": {},
   "source": [
    "Проверяем на нормальность по Колмагорову-Смирнову и видим, что pvalue имеет значение близкое к нулевому, значит распределение нормальным считать не следует!"
   ]
  },
  {
   "cell_type": "markdown",
   "id": "faeebc12",
   "metadata": {},
   "source": [
    "Делим пользователей на контрольную и тестовую группы:"
   ]
  },
  {
   "cell_type": "code",
   "execution_count": 80,
   "id": "69dc81e0",
   "metadata": {},
   "outputs": [],
   "source": [
    "data_control = data[data['version'] == 'gate_30']\n",
    "\n",
    "data_test = data[data['version'] == 'gate_40']"
   ]
  },
  {
   "cell_type": "markdown",
   "id": "154e87c3",
   "metadata": {},
   "source": [
    "1. Анализ результатов первого дня - Retention 1 day."
   ]
  },
  {
   "cell_type": "code",
   "execution_count": 81,
   "id": "ce2323ea",
   "metadata": {},
   "outputs": [
    {
     "data": {
      "text/plain": [
       "version\n",
       "gate_30    0.448188\n",
       "gate_40    0.442283\n",
       "Name: retention_1, dtype: float64"
      ]
     },
     "execution_count": 81,
     "metadata": {},
     "output_type": "execute_result"
    }
   ],
   "source": [
    "data.groupby('version')['retention_1'].mean()"
   ]
  },
  {
   "cell_type": "code",
   "execution_count": 82,
   "id": "d79b9226",
   "metadata": {},
   "outputs": [
    {
     "data": {
      "text/plain": [
       "MannwhitneyuResult(statistic=1024331250.5, pvalue=0.05020880772044255)"
      ]
     },
     "execution_count": 82,
     "metadata": {},
     "output_type": "execute_result"
    }
   ],
   "source": [
    "mannwhitneyu(x = data_control['sum_gamerounds'].values, y = data_test['sum_gamerounds'].values)"
   ]
  },
  {
   "cell_type": "markdown",
   "id": "95fd6ec1",
   "metadata": {},
   "source": [
    "Значение pvalue мало, практически равно по значению alpha, требуется дополнительная проверка"
   ]
  },
  {
   "cell_type": "code",
   "execution_count": 90,
   "id": "ace5ca52",
   "metadata": {},
   "outputs": [
    {
     "name": "stdout",
     "output_type": "stream",
     "text": [
      "Результаты: z_score = -1.7840862247974725 pvalue = 0.07440965529691913\n"
     ]
    }
   ],
   "source": [
    "k1 = data_test['retention_1'].sum()\n",
    "k2 = data_control['retention_1'].sum()\n",
    "\n",
    "n1 = data_test.shape[0]\n",
    "n2 = data_control.shape[0]\n",
    "\n",
    "z_score, z_pvalue = proportion.proportions_ztest(np.array([k1, k2]), np.array([n1, n2]))\n",
    "\n",
    "print(f'Результаты:','z_score =', z_score, 'pvalue =', z_pvalue)"
   ]
  },
  {
   "cell_type": "markdown",
   "id": "ccf579d8",
   "metadata": {},
   "source": [
    "Принимаем нулевую гипотезу, так как pvalue > alpha. Статистических различий не видим межлу выборками в результате первого дня."
   ]
  },
  {
   "cell_type": "markdown",
   "id": "f4013e0e",
   "metadata": {},
   "source": [
    "2. Анализ результатов за неделю - Retention 7 days."
   ]
  },
  {
   "cell_type": "code",
   "execution_count": 13,
   "id": "5acbc310",
   "metadata": {},
   "outputs": [
    {
     "data": {
      "text/plain": [
       "version\n",
       "gate_30    0.190201\n",
       "gate_40    0.182000\n",
       "Name: retention_7, dtype: float64"
      ]
     },
     "execution_count": 13,
     "metadata": {},
     "output_type": "execute_result"
    }
   ],
   "source": [
    "data.groupby('version')['retention_7'].mean()"
   ]
  },
  {
   "cell_type": "code",
   "execution_count": 91,
   "id": "882df6b1",
   "metadata": {},
   "outputs": [
    {
     "name": "stdout",
     "output_type": "stream",
     "text": [
      "Результаты: z_score = -3.164358912748191 pvalue = 0.001554249975614329\n"
     ]
    }
   ],
   "source": [
    "k1 = data_test['retention_7'].sum()\n",
    "k2 = data_control['retention_7'].sum()\n",
    "\n",
    "n1 = data_test.shape[0]\n",
    "n2 = data_control.shape[0]\n",
    "\n",
    "z_score, z_pvalue = proportion.proportions_ztest(np.array([k1, k2]), np.array([n1, n2]))\n",
    "\n",
    "print(f'Результаты:','z_score =', z_score, 'pvalue =', z_pvalue)"
   ]
  },
  {
   "cell_type": "markdown",
   "id": "af3d84e8",
   "metadata": {},
   "source": [
    "Отвеграем нулевую гипотезу, так как pvalue < alpha. По истечении семи дней статистически значимое различие между выборками есть."
   ]
  },
  {
   "cell_type": "markdown",
   "id": "82aea7ad",
   "metadata": {},
   "source": [
    "### Вывод: на основе представленных данных видно, что:\n",
    "1. На основе данных за первый день видно, что статистически значимых различий между контрольной группой и тестовой группой нет, следовательно считаем этот результат промежуточным, не оринетируемся на эту выборку при формулировании рекомендаций.\n",
    "2. Через неделю статистически значимая разница между выборками появляется, при этом игроки контрольной группы играют больше.\n",
    "3. В результате ретроспективного анализа за 1 и за 7 дней, видим, что представленное изменение в игре не сказывается на начальном этапе тестирования, требуется хотя бы неделя, чтобы оценить результат. Причем, по истечению недели, игроки проявили больше интереса к игре в контрольной группе!\n",
    "4. Не рекомендуется внедрять предложенное обновление, так как тренд показывает негативную динамику, которая подтверждена статистически."
   ]
  }
 ],
 "metadata": {
  "kernelspec": {
   "display_name": "Python 3 (ipykernel)",
   "language": "python",
   "name": "python3"
  },
  "language_info": {
   "codemirror_mode": {
    "name": "ipython",
    "version": 3
   },
   "file_extension": ".py",
   "mimetype": "text/x-python",
   "name": "python",
   "nbconvert_exporter": "python",
   "pygments_lexer": "ipython3",
   "version": "3.9.13"
  }
 },
 "nbformat": 4,
 "nbformat_minor": 5
}
